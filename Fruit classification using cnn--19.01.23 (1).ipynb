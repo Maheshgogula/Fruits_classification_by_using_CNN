{
 "cells": [
  {
   "cell_type": "code",
   "execution_count": 1,
   "id": "6d22ccad",
   "metadata": {},
   "outputs": [],
   "source": [
    "!pip install -q opencv-python"
   ]
  },
  {
   "cell_type": "code",
   "execution_count": 2,
   "id": "48b45ebe",
   "metadata": {},
   "outputs": [],
   "source": [
    "!pip install -q tensorflow"
   ]
  },
  {
   "cell_type": "code",
   "execution_count": 3,
   "id": "2c282d2b",
   "metadata": {},
   "outputs": [],
   "source": [
    "import os\n",
    "import random\n",
    "import pandas as pd \n",
    "import numpy as np \n",
    "import matplotlib.pyplot as plt\n",
    "import cv2\n",
    "from tensorflow import keras\n",
    "import tensorflow as tf\n",
    "import keras.backend as K\n",
    "from tensorflow.keras.preprocessing.image import ImageDataGenerator\n",
    "from tensorflow.keras.models import Sequential\n",
    "from tensorflow.keras.layers import InputLayer, BatchNormalization, Dropout, Flatten, Dense, Activation, MaxPool2D, Conv2D\n",
    "from tensorflow.keras.layers import Conv2D, Dense, Flatten, Dropout, Activation, SimpleRNN\n",
    "from tensorflow.keras.layers import BatchNormalization, Reshape, MaxPooling2D, GlobalAveragePooling2D\n",
    "from tensorflow.keras.callbacks import EarlyStopping, ModelCheckpoint, ReduceLROnPlateau\n",
    "\n",
    "from PIL import Image\n",
    "from PIL import UnidentifiedImageError\n",
    "\n",
    "from sklearn.preprocessing import OneHotEncoder\n",
    "\n",
    "from sklearn.model_selection import train_test_split\n",
    "\n",
    "from sklearn.metrics import classification_report, confusion_matrix, roc_curve, auc\n",
    "import itertools\n",
    "from sklearn.preprocessing import StandardScaler\n",
    "\n",
    "import warnings\n",
    "warnings.filterwarnings('ignore')\n",
    "from sklearn import metrics\n",
    "from sklearn.preprocessing import label_binarize\n",
    "from sklearn.discriminant_analysis import LinearDiscriminantAnalysis\n",
    "from sklearn.preprocessing import StandardScaler\n",
    "from sklearn.neighbors import KNeighborsClassifier\n",
    "from sklearn.preprocessing import MinMaxScaler\n",
    "\n",
    "from keras import layers\n",
    "from keras.layers import Input, Lambda, Dense, Flatten\n",
    "from keras.models import Model\n",
    "from keras.applications.vgg16 import VGG16\n",
    "from keras.applications.vgg16 import preprocess_input\n",
    "from keras.preprocessing import image\n",
    "from keras.preprocessing.image import ImageDataGenerator\n",
    "from keras.models import Sequential\n",
    "import numpy as np\n",
    "from glob import glob\n",
    "import matplotlib.pyplot as plt\n"
   ]
  },
  {
   "cell_type": "code",
   "execution_count": 4,
   "id": "5966f78a",
   "metadata": {},
   "outputs": [],
   "source": [
    "apple = os.listdir('Data/apple')\n",
    "orange = os.listdir('Data/orange')"
   ]
  },
  {
   "cell_type": "code",
   "execution_count": 5,
   "id": "4160e1b3",
   "metadata": {},
   "outputs": [],
   "source": [
    "img_w, img_h = 100, 100 \n",
    "X = [] # empty list\n",
    "y = []"
   ]
  },
  {
   "cell_type": "code",
   "execution_count": 6,
   "id": "09d84030",
   "metadata": {},
   "outputs": [],
   "source": [
    "for i in apple:\n",
    "    try:\n",
    "        img = Image.open('Data/apple/' + i).convert('RGB')\n",
    "        img = img.resize((img_w,img_h))\n",
    "        X.append(np.asarray(img))\n",
    "        y.append(0)\n",
    "    except UnidentifiedImageError: \n",
    "        pass \n",
    "    \n",
    "for i in orange:\n",
    "    try:\n",
    "        img = Image.open('Data/orange/' + i).convert('RGB')\n",
    "        img = img.resize((img_w,img_h))\n",
    "        X.append(np.asarray(img))\n",
    "        y.append(1)\n",
    "    except UnidentifiedImageError:\n",
    "        pass"
   ]
  },
  {
   "cell_type": "code",
   "execution_count": 7,
   "id": "54dd814a",
   "metadata": {},
   "outputs": [
    {
     "name": "stdout",
     "output_type": "stream",
     "text": [
      "(87, 100, 100, 3) (87,)\n"
     ]
    }
   ],
   "source": [
    "X = np.asarray(X)\n",
    "y = np.asarray(y)\n",
    "print(X.shape, y.shape)"
   ]
  },
  {
   "cell_type": "code",
   "execution_count": 8,
   "id": "2530ec27",
   "metadata": {},
   "outputs": [],
   "source": [
    "x = X.astype('float32')\n",
    "x /= 255"
   ]
  },
  {
   "cell_type": "code",
   "execution_count": 9,
   "id": "fc55fb03",
   "metadata": {},
   "outputs": [],
   "source": [
    "num_classes = 2"
   ]
  },
  {
   "cell_type": "code",
   "execution_count": 10,
   "id": "068f3c4f",
   "metadata": {},
   "outputs": [
    {
     "name": "stdout",
     "output_type": "stream",
     "text": [
      "[1. 0.]\n"
     ]
    }
   ],
   "source": [
    "labels = keras.utils.to_categorical(y, num_classes)\n",
    "print(labels[0])"
   ]
  },
  {
   "cell_type": "code",
   "execution_count": 11,
   "id": "f47c1cac",
   "metadata": {},
   "outputs": [
    {
     "name": "stdout",
     "output_type": "stream",
     "text": [
      " train: 62\n",
      " validation: 11\n",
      " test: 14\n"
     ]
    }
   ],
   "source": [
    "# splitting our dataset into train and test\n",
    "from sklearn.model_selection import train_test_split\n",
    "x_train1, x_test, y_train1, y_test = train_test_split(x, labels, test_size = 0.15, random_state=5)\n",
    "x_train,x_val,y_train,y_val=train_test_split(x_train1,y_train1,test_size=0.15,random_state=5)\n",
    "\n",
    "\n",
    "print(' train: {}'.format(len(x_train)))\n",
    "print(' validation: {}'.format(len(x_val)))\n",
    "print(' test: {}'.format(len(x_test)))\n"
   ]
  },
  {
   "cell_type": "code",
   "execution_count": 12,
   "id": "aea9855b",
   "metadata": {},
   "outputs": [],
   "source": [
    "datagen = ImageDataGenerator(\n",
    "    rotation_range=20.,\n",
    "    width_shift_range=0.3,\n",
    "    height_shift_range=0.3,\n",
    "    shear_range=30.,\n",
    "    zoom_range=0.2,\n",
    "    horizontal_flip=0.2,\n",
    "    rescale=None)\n",
    "datagen.fit(x_train)"
   ]
  },
  {
   "cell_type": "code",
   "execution_count": 13,
   "id": "987d970d",
   "metadata": {},
   "outputs": [],
   "source": [
    "cnn = tf.keras.models.Sequential()"
   ]
  },
  {
   "cell_type": "code",
   "execution_count": 14,
   "id": "ac291457",
   "metadata": {},
   "outputs": [],
   "source": [
    "model = Sequential()\n",
    "model.add(Conv2D(20,(3,3) ,activation=\"relu\", input_shape=(100,100,3)))\n",
    "model.add(MaxPooling2D(2,2))\n",
    "model.add(Conv2D(40,(3,3) ,activation=\"relu\"))\n",
    "model.add(Flatten())\n",
    "model.add(Dense(100, activation='relu'))\n",
    "model.add(Dropout(0.2))\n",
    "model.add(Dense(num_classes, activation='softmax'))\n"
   ]
  },
  {
   "cell_type": "code",
   "execution_count": 15,
   "id": "c090d112",
   "metadata": {},
   "outputs": [
    {
     "name": "stdout",
     "output_type": "stream",
     "text": [
      "Model: \"sequential_1\"\n",
      "_________________________________________________________________\n",
      " Layer (type)                Output Shape              Param #   \n",
      "=================================================================\n",
      " conv2d (Conv2D)             (None, 98, 98, 20)        560       \n",
      "                                                                 \n",
      " max_pooling2d (MaxPooling2D  (None, 49, 49, 20)       0         \n",
      " )                                                               \n",
      "                                                                 \n",
      " conv2d_1 (Conv2D)           (None, 47, 47, 40)        7240      \n",
      "                                                                 \n",
      " flatten (Flatten)           (None, 88360)             0         \n",
      "                                                                 \n",
      " dense (Dense)               (None, 100)               8836100   \n",
      "                                                                 \n",
      " dropout (Dropout)           (None, 100)               0         \n",
      "                                                                 \n",
      " dense_1 (Dense)             (None, 2)                 202       \n",
      "                                                                 \n",
      "=================================================================\n",
      "Total params: 8,844,102\n",
      "Trainable params: 8,844,102\n",
      "Non-trainable params: 0\n",
      "_________________________________________________________________\n"
     ]
    }
   ],
   "source": [
    "model.summary()"
   ]
  },
  {
   "cell_type": "code",
   "execution_count": 16,
   "id": "6d4daa94",
   "metadata": {},
   "outputs": [],
   "source": [
    "model.compile(loss='categorical_crossentropy',optimizer='Adam',metrics=['accuracy'])\n",
    "\n",
    "callbacks_list = [\n",
    "    keras.callbacks.ModelCheckpoint(\n",
    "        filepath='model.h5',\n",
    "        monitor='val_loss', save_best_only=True, verbose=1),\n",
    "    keras.callbacks.EarlyStopping(monitor='val_loss', patience=10,verbose=1)\n",
    "]"
   ]
  },
  {
   "cell_type": "code",
   "execution_count": 17,
   "id": "176c50cb",
   "metadata": {},
   "outputs": [
    {
     "name": "stdout",
     "output_type": "stream",
     "text": [
      "Epoch 1/30\n",
      "2/2 [==============================] - 1s 422ms/step - loss: 0.5700 - accuracy: 0.7258 - val_loss: 5.0813 - val_accuracy: 0.7273\n",
      "Epoch 2/30\n",
      "2/2 [==============================] - 0s 243ms/step - loss: 5.4471 - accuracy: 0.5161 - val_loss: 4.7927 - val_accuracy: 0.2727\n",
      "Epoch 3/30\n",
      "2/2 [==============================] - 0s 234ms/step - loss: 3.2139 - accuracy: 0.6129 - val_loss: 3.1997 - val_accuracy: 0.2727\n",
      "Epoch 4/30\n",
      "2/2 [==============================] - 0s 232ms/step - loss: 1.2602 - accuracy: 0.6613 - val_loss: 0.1983 - val_accuracy: 0.9091\n",
      "Epoch 5/30\n",
      "2/2 [==============================] - 0s 245ms/step - loss: 0.6656 - accuracy: 0.6935 - val_loss: 0.4141 - val_accuracy: 0.8182\n",
      "Epoch 6/30\n",
      "2/2 [==============================] - 0s 252ms/step - loss: 0.5344 - accuracy: 0.7903 - val_loss: 0.2176 - val_accuracy: 0.9091\n",
      "Epoch 7/30\n",
      "2/2 [==============================] - 0s 244ms/step - loss: 0.2058 - accuracy: 0.9194 - val_loss: 0.3963 - val_accuracy: 0.7273\n",
      "Epoch 8/30\n",
      "2/2 [==============================] - 0s 267ms/step - loss: 0.1881 - accuracy: 0.9194 - val_loss: 0.6459 - val_accuracy: 0.6364\n",
      "Epoch 9/30\n",
      "2/2 [==============================] - 0s 275ms/step - loss: 0.1948 - accuracy: 0.9194 - val_loss: 0.4302 - val_accuracy: 0.7273\n",
      "Epoch 10/30\n",
      "2/2 [==============================] - 1s 268ms/step - loss: 0.1301 - accuracy: 0.9516 - val_loss: 0.2200 - val_accuracy: 0.9091\n",
      "Epoch 11/30\n",
      "2/2 [==============================] - 0s 269ms/step - loss: 0.0952 - accuracy: 0.9677 - val_loss: 0.0948 - val_accuracy: 1.0000\n",
      "Epoch 12/30\n",
      "2/2 [==============================] - 0s 272ms/step - loss: 0.0752 - accuracy: 0.9839 - val_loss: 0.0670 - val_accuracy: 1.0000\n",
      "Epoch 13/30\n",
      "2/2 [==============================] - 0s 261ms/step - loss: 0.0502 - accuracy: 0.9839 - val_loss: 0.0873 - val_accuracy: 1.0000\n",
      "Epoch 14/30\n",
      "2/2 [==============================] - 0s 264ms/step - loss: 0.0349 - accuracy: 0.9839 - val_loss: 0.1152 - val_accuracy: 0.9091\n",
      "Epoch 15/30\n",
      "2/2 [==============================] - 0s 265ms/step - loss: 0.0139 - accuracy: 1.0000 - val_loss: 0.1105 - val_accuracy: 0.9091\n",
      "Epoch 16/30\n",
      "2/2 [==============================] - 0s 259ms/step - loss: 0.0205 - accuracy: 0.9839 - val_loss: 0.1262 - val_accuracy: 0.9091\n",
      "Epoch 17/30\n",
      "2/2 [==============================] - 1s 303ms/step - loss: 0.0059 - accuracy: 1.0000 - val_loss: 0.1738 - val_accuracy: 0.9091\n",
      "Epoch 18/30\n",
      "2/2 [==============================] - 1s 306ms/step - loss: 0.0029 - accuracy: 1.0000 - val_loss: 0.2246 - val_accuracy: 0.9091\n",
      "Epoch 19/30\n",
      "2/2 [==============================] - 1s 286ms/step - loss: 0.0037 - accuracy: 1.0000 - val_loss: 0.4283 - val_accuracy: 0.8182\n",
      "Epoch 20/30\n",
      "2/2 [==============================] - 1s 347ms/step - loss: 0.0011 - accuracy: 1.0000 - val_loss: 0.5936 - val_accuracy: 0.8182\n",
      "Epoch 21/30\n",
      "2/2 [==============================] - 1s 345ms/step - loss: 0.0014 - accuracy: 1.0000 - val_loss: 0.5991 - val_accuracy: 0.8182\n",
      "Epoch 22/30\n",
      "2/2 [==============================] - 1s 323ms/step - loss: 4.3983e-04 - accuracy: 1.0000 - val_loss: 0.4854 - val_accuracy: 0.8182\n",
      "Epoch 23/30\n",
      "2/2 [==============================] - 0s 271ms/step - loss: 5.4229e-04 - accuracy: 1.0000 - val_loss: 0.3505 - val_accuracy: 0.8182\n",
      "Epoch 24/30\n",
      "2/2 [==============================] - 0s 262ms/step - loss: 0.0027 - accuracy: 1.0000 - val_loss: 0.6426 - val_accuracy: 0.8182\n",
      "Epoch 25/30\n",
      "2/2 [==============================] - 0s 262ms/step - loss: 2.7793e-04 - accuracy: 1.0000 - val_loss: 1.5237 - val_accuracy: 0.6364\n",
      "Epoch 26/30\n",
      "2/2 [==============================] - 0s 272ms/step - loss: 0.0074 - accuracy: 1.0000 - val_loss: 0.7180 - val_accuracy: 0.8182\n",
      "Epoch 27/30\n",
      "2/2 [==============================] - 0s 264ms/step - loss: 0.0032 - accuracy: 1.0000 - val_loss: 0.1632 - val_accuracy: 0.9091\n",
      "Epoch 28/30\n",
      "2/2 [==============================] - 0s 261ms/step - loss: 0.0015 - accuracy: 1.0000 - val_loss: 0.1331 - val_accuracy: 0.9091\n",
      "Epoch 29/30\n",
      "2/2 [==============================] - 0s 260ms/step - loss: 7.8747e-04 - accuracy: 1.0000 - val_loss: 0.1620 - val_accuracy: 0.9091\n",
      "Epoch 30/30\n",
      "2/2 [==============================] - 0s 261ms/step - loss: 1.0492e-04 - accuracy: 1.0000 - val_loss: 0.2103 - val_accuracy: 0.9091\n"
     ]
    }
   ],
   "source": [
    "history=model.fit(x_train,y_train,validation_data=(x_val,y_val),epochs = 30)"
   ]
  },
  {
   "cell_type": "code",
   "execution_count": 18,
   "id": "255e2cdb",
   "metadata": {},
   "outputs": [
    {
     "name": "stdout",
     "output_type": "stream",
     "text": [
      "2/2 - 0s - loss: 5.7009e-05 - accuracy: 1.0000 - 88ms/epoch - 44ms/step\n"
     ]
    },
    {
     "data": {
      "image/png": "[encoded data removed]",
      "text/plain": [
       "<Figure size 432x288 with 1 Axes>"
      ]
     },
     "metadata": {
      "needs_background": "light"
     },
     "output_type": "display_data"
    }
   ],
   "source": [
    "plt.plot(history.history['accuracy'], label='accuracy')\n",
    "plt.plot(history.history['val_accuracy'], label = 'val_accuracy')\n",
    "plt.xlabel('Epoch')\n",
    "plt.ylabel('Accuracy')\n",
    "plt.ylim([0.5, 1])\n",
    "plt.legend(loc='lower right')\n",
    "\n",
    "test_loss, test_acc = model.evaluate(x_train,y_train,verbose=2)"
   ]
  },
  {
   "cell_type": "code",
   "execution_count": 19,
   "id": "04faa5a3",
   "metadata": {},
   "outputs": [],
   "source": [
    "from sklearn.metrics import confusion_matrix\n",
    "from sklearn.metrics import precision_score, recall_score, f1_score, accuracy_score\n",
    "from sklearn.metrics import roc_curve, roc_auc_score"
   ]
  },
  {
   "cell_type": "code",
   "execution_count": 31,
   "id": "2b2d5843",
   "metadata": {},
   "outputs": [],
   "source": [
    "def f1_score(y_true, y_pred):\n",
    "    true_positives = K.sum(K.round(K.clip(y_true * y_pred, 0, 1)))\n",
    "    possible_positives = K.sum(K.round(K.clip(y_true, 0, 1)))\n",
    "    predicted_positives = K.sum(K.round(K.clip(y_pred, 0, 1)))\n",
    "    precision = true_positives / (predicted_positives + K.epsilon())\n",
    "    recall = true_positives / (possible_positives + K.epsilon())\n",
    "    f1_val = 2*(precision*recall)/(precision+recall+K.epsilon())\n",
    "    return f1_val\n",
    "\n",
    "Metrics = [\n",
    "      tf.keras.metrics.CategoricalAccuracy(name='accuracy'),\n",
    "      tf.keras.metrics.Precision(name='precision'),\n",
    "      tf.keras.metrics.Recall(name='recall'),  \n",
    "      tf.keras.metrics.AUC(name='auc'),\n",
    "        f1_score,\n",
    "]"
   ]
  },
  {
   "cell_type": "markdown",
   "id": "226626e3",
   "metadata": {},
   "source": [
    "y_true = true labels\n",
    "y_pred = predicted labels\n",
    "Round = round the value ex:-3.2 the round function will make to 3\n",
    "clip = cliping the values like 0 to 1\n",
    "epsilon = The reason why machine epsilon is important is that no matter how carefully we do operations like addition, subtraction, multiplication, or division with floating point numbers, we end up making an error when we round off our answer. That is what machine epsilon measures."
   ]
  },
  {
   "cell_type": "code",
   "execution_count": 25,
   "id": "09329aa2",
   "metadata": {},
   "outputs": [
    {
     "data": {
      "text/plain": [
       "[<keras.metrics.metrics.CategoricalAccuracy at 0x27b03e92a60>,\n",
       " <keras.metrics.metrics.Precision at 0x27b03ea2b80>,\n",
       " <keras.metrics.metrics.Recall at 0x27b03ea2fd0>,\n",
       " <keras.metrics.metrics.AUC at 0x27b03e83c10>,\n",
       " <function __main__.f1_score(y_true, y_pred)>]"
      ]
     },
     "execution_count": 25,
     "metadata": {},
     "output_type": "execute_result"
    }
   ],
   "source": [
    "Metrics"
   ]
  },
  {
   "cell_type": "code",
   "execution_count": 36,
   "id": "92baaf2d",
   "metadata": {},
   "outputs": [
    {
     "name": "stdout",
     "output_type": "stream",
     "text": [
      "1/1 [==============================] - 0s 34ms/step\n",
      "1/1 [==============================] - 0s 33ms/step\n",
      "Confusion Matrix\n",
      "Classification Report\n",
      "              precision    recall  f1-score   support\n",
      "\n",
      "       apple       0.86      0.75      0.80         8\n",
      "      Orange       0.71      0.83      0.77         6\n",
      "\n",
      "    accuracy                           0.79        14\n",
      "   macro avg       0.79      0.79      0.78        14\n",
      "weighted avg       0.80      0.79      0.79        14\n",
      "\n"
     ]
    },
    {
     "data": {
      "image/png": "[encoded data removed]",
      "text/plain": [
       "<Figure size 720x720 with 2 Axes>"
      ]
     },
     "metadata": {
      "needs_background": "light"
     },
     "output_type": "display_data"
    }
   ],
   "source": [
    "def plot_confusion_matrix(cm, classes, normalize=True, title='Confusion matrix',cmap=plt.cm.Purples):\n",
    "    \n",
    "    plt.figure(figsize=(10,10))\n",
    "    plt.imshow(cm, interpolation='nearest', cmap=cmap)\n",
    "    plt.title(title)\n",
    "    plt.colorbar()\n",
    "    tick_marks = np.arange(len(classes))\n",
    "    plt.xticks(tick_marks, classes, rotation=45)\n",
    "    plt.yticks(tick_marks, classes)\n",
    "    if normalize:\n",
    "        cm = cm.astype('float') / cm.sum(axis=1)[:, np.newaxis]\n",
    "        cm = np.around(cm, decimals=2)\n",
    "        cm[np.isnan(cm)] = 0.0\n",
    "    thresh = cm.max() / 2.\n",
    "    for i, j in itertools.product(range(cm.shape[0]), range(cm.shape[1])):\n",
    "        plt.text(j, i, cm[i, j],\n",
    "                 horizontalalignment=\"center\",\n",
    "                 color=\"white\" if cm[i, j] > thresh else \"black\")\n",
    "    plt.tight_layout()\n",
    "    plt.ylabel('Actual Posture')\n",
    "    plt.xlabel('Predicted Posture')\n",
    "\n",
    "y_pred = (model.predict(x_test) > 0.5).astype(\"int32\")\n",
    "y_test_c = np.argmax(y_test, axis=1)\n",
    "target_names = [\"apple\",\"Orange\"]\n",
    "\n",
    "Y_pred = np.argmax(model.predict(x_test),axis=1)\n",
    "print('Confusion Matrix')\n",
    "cm = confusion_matrix(y_test_c, Y_pred)\n",
    "plot_confusion_matrix(cm, target_names, normalize=False,title='Confusion matrix')\n",
    "\n",
    "print('Classification Report')\n",
    "print(classification_report(y_test_c, Y_pred, target_names=target_names))"
   ]
  },
  {
   "cell_type": "markdown",
   "id": "1ddd440f",
   "metadata": {},
   "source": [
    "out of 8 apples 2 apples are wrongly classified\n",
    "out of 6 oranges 1 orange is wrongly classified"
   ]
  },
  {
   "cell_type": "code",
   "execution_count": 44,
   "id": "24c9e927",
   "metadata": {},
   "outputs": [
    {
     "name": "stdout",
     "output_type": "stream",
     "text": [
      "1/1 [==============================] - 0s 36ms/step\n",
      "1/1 [==============================] - 0s 27ms/step\n"
     ]
    },
    {
     "data": {
      "image/png": "[encoded data removed]",
      "text/plain": [
       "<Figure size 432x288 with 1 Axes>"
      ]
     },
     "metadata": {
      "needs_background": "light"
     },
     "output_type": "display_data"
    }
   ],
   "source": [
    "#\n",
    "y_pred_cnb = model.predict(x_test)\n",
    "y_prob_pred_cnb = model.predict(x_test)\n",
    "\n",
    "#roc auc score\n",
    "roc_auc_score(y_test, y_prob_pred_cnb, multi_class='ovo', average='weighted')\n",
    "# roc curve for classes\n",
    "# crating set \n",
    "fpr = {}\n",
    "tpr = {}\n",
    "thresh ={}\n",
    "\n",
    "n_class = 2\n",
    "#creating moddedl\n",
    "for i in range(n_class):    \n",
    "    fpr[i], tpr[i], thresh[i] = roc_curve(y_test_c, y_prob_pred_cnb[:,i], pos_label=i)\n",
    "#putting the class and emplomemnting the code     \n",
    "# plotting    \n",
    "plt.plot(fpr[0], tpr[0], linestyle='--',color='red', label='apple')\n",
    "plt.plot(fpr[1], tpr[1], linestyle='-',color='orange', label='orange')\n",
    "\n",
    "plt.title('ROC curve')\n",
    "plt.xlabel('False Positive Rate')\n",
    "plt.ylabel('True Positive rate')\n",
    "plt.legend(loc='best')\n",
    "plt.savefig('Multiclass ROC',dpi=300);  \n",
    "plt.show()\n",
    "\n",
    "\n"
   ]
  },
  {
   "cell_type": "code",
   "execution_count": 43,
   "id": "a36bca38",
   "metadata": {},
   "outputs": [
    {
     "name": "stdout",
     "output_type": "stream",
     "text": [
      "0.9583333333333334\n"
     ]
    }
   ],
   "source": [
    "auc = metrics.roc_auc_score(y_test, y_prob_pred_cnb)\n",
    "\n",
    "print(auc)\n"
   ]
  },
  {
   "cell_type": "code",
   "execution_count": 46,
   "id": "e1859254",
   "metadata": {
    "scrolled": false
   },
   "outputs": [
    {
     "data": {
      "image/png": "[encoded data removed]",
      "text/plain": [
       "<Figure size 432x288 with 1 Axes>"
      ]
     },
     "metadata": {
      "needs_background": "light"
     },
     "output_type": "display_data"
    }
   ],
   "source": [
    "from sklearn.metrics import precision_recall_curve, roc_curve\n",
    "precision = dict()\n",
    "recall = dict()\n",
    "for i in range(n_class):\n",
    "    precision[i], recall[i], _ = precision_recall_curve(y_test[:, i], y_prob_pred_cnb[:, i])\n",
    "    plt.plot(recall[i], precision[i], lw=2, label='class {}'.format(i))\n",
    "plt.xlabel(\"Recall\")\n",
    "plt.ylabel(\"Precision\")\n",
    "plt.legend(loc=\"best\")\n",
    "plt.title(\"Precision vs Recall curve\")\n",
    "plt.show()"
   ]
  },
  {
   "cell_type": "code",
   "execution_count": 47,
   "id": "29e24ed1",
   "metadata": {},
   "outputs": [
    {
     "name": "stdout",
     "output_type": "stream",
     "text": [
      "0.9583333333333334\n"
     ]
    }
   ],
   "source": [
    "auc = metrics.roc_auc_score(y_test, y_prob_pred_cnb)\n",
    "\n",
    "print(auc)\n"
   ]
  },
  {
   "cell_type": "code",
   "execution_count": 48,
   "id": "21e4efe1",
   "metadata": {},
   "outputs": [
    {
     "data": {
      "image/png": "[encoded data removed]",
      "text/plain": [
       "<Figure size 432x288 with 1 Axes>"
      ]
     },
     "metadata": {
      "needs_background": "light"
     },
     "output_type": "display_data"
    }
   ],
   "source": [
    "fpr = dict()\n",
    "tpr = dict()\n",
    "for i in range(n_class):\n",
    "    fpr[i], tpr[i], _ = roc_curve(y_test[:, i], \n",
    "                                  y_prob_pred_cnb[:, i])\n",
    "    plt.plot(fpr[i], tpr[i], lw=2, label='class {}'.format(i))\n",
    "plt.xlabel(\"False positive rate\")\n",
    "plt.ylabel(\"True positive  rate\")\n",
    "plt.legend(loc=\"best\")\n",
    "plt.title(\"ROC curve\")\n",
    "plt.show()\n"
   ]
  },
  {
   "cell_type": "code",
   "execution_count": 49,
   "id": "e7bdccd4",
   "metadata": {},
   "outputs": [
    {
     "name": "stdout",
     "output_type": "stream",
     "text": [
      "0.9583333333333334\n"
     ]
    }
   ],
   "source": [
    "auc = metrics.roc_auc_score(y_test, y_prob_pred_cnb)\n",
    "\n",
    "print(auc)"
   ]
  },
  {
   "cell_type": "code",
   "execution_count": null,
   "id": "36ff2e46",
   "metadata": {},
   "outputs": [],
   "source": []
  },
  {
   "cell_type": "code",
   "execution_count": null,
   "id": "20dbeeb2",
   "metadata": {},
   "outputs": [],
   "source": []
  }
 ],
 "metadata": {
  "kernelspec": {
   "display_name": "Python 3 (ipykernel)",
   "language": "python",
   "name": "python3"
  },
  "language_info": {
   "codemirror_mode": {
    "name": "ipython",
    "version": 3
   },
   "file_extension": ".py",
   "mimetype": "text/x-python",
   "name": "python",
   "nbconvert_exporter": "python",
   "pygments_lexer": "ipython3",
   "version": "3.9.7"
  }
 },
 "nbformat": 4,
 "nbformat_minor": 5
}
